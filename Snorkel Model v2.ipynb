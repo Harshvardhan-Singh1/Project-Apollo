{
 "cells": [
  {
   "cell_type": "markdown",
   "id": "b3255c10",
   "metadata": {},
   "source": [
    "# Snorkel Model v2"
   ]
  },
  {
   "cell_type": "code",
   "execution_count": 1,
   "id": "42143bfd",
   "metadata": {},
   "outputs": [],
   "source": [
    "import snorkel\n",
    "import numpy as np\n",
    "import pandas as pd\n",
    "from sklearn.model_selection import train_test_split\n",
    "from sklearn.feature_extraction.text import TfidfVectorizer\n",
    "from snorkel.labeling import LabelingFunction, PandasLFApplier\n",
    "from snorkel.labeling.model.label_model import LabelModel"
   ]
  },
  {
   "cell_type": "code",
   "execution_count": 3,
   "id": "e602218e",
   "metadata": {},
   "outputs": [],
   "source": [
    "# Load Data\n",
    "Labels = pd.read_csv('Labels.csv')\n",
    "Labels.columns = ['Labels']\n",
    "abstract_df = pd.read_csv('preprocessed_data_Jul14.csv')\n",
    "abstract_df = abstract_df['concatenated_title_abstract'].to_frame(name='concatenated_title_abstract')\n",
    "\n",
    "# Define Labeling Functions\n",
    "LABEL_DICT = {label: i for i, label in enumerate(Labels['Labels'].tolist())}"
   ]
  },
  {
   "cell_type": "code",
   "execution_count": 4,
   "id": "1de1e8e0",
   "metadata": {},
   "outputs": [
    {
     "data": {
      "text/plain": [
       "concatenated_title_abstract    KINEMATIC TREATMENT OF CORONAL MASS EJECTION E...\n",
       "Name: 0, dtype: object"
      ]
     },
     "execution_count": 4,
     "metadata": {},
     "output_type": "execute_result"
    }
   ],
   "source": [
    "abstract_df.iloc[0]"
   ]
  },
  {
   "cell_type": "code",
   "execution_count": 3,
   "id": "5856b01a",
   "metadata": {},
   "outputs": [],
   "source": [
    "# Define ABSTAIN constant\n",
    "ABSTAIN = -1\n",
    "\n",
    "def lf_observatories(row):\n",
    "    observatories = pd.read_csv('Astronomical Observatories.csv')['Name'].tolist()\n",
    "    abstract = row['concatenated_title_abstract']\n",
    "    for observatory in observatories:\n",
    "        if observatory in abstract:\n",
    "            return LABEL_DICT.get(observatory, ABSTAIN)\n",
    "    return ABSTAIN\n",
    "\n",
    "def lf_radio_telescopes(row):\n",
    "    telescope_names = pd.read_csv('List of radio telescopes.csv')['Name'].tolist()\n",
    "    abstract = row['concatenated_title_abstract']\n",
    "    for telescope_name in telescope_names:\n",
    "        if telescope_name in abstract:\n",
    "            return LABEL_DICT.get(telescope_name, ABSTAIN)\n",
    "    return ABSTAIN\n",
    "\n",
    "def lf_solar_optical_telescopes(row):\n",
    "    telescope_names = pd.read_csv('List of Solar Telescope Optical.csv')['Name/Observatory'].tolist()\n",
    "    abstract = row['concatenated_title_abstract']\n",
    "    for telescope_name in telescope_names:\n",
    "        if telescope_name in abstract:\n",
    "            return LABEL_DICT.get(telescope_name, ABSTAIN)\n",
    "    return ABSTAIN\n",
    "\n",
    "def lf_solar_radio_telescopes(row):\n",
    "    telescope_names = pd.read_csv('List of Solar Telescope Radio.csv')['Name/Observatory'].tolist()\n",
    "    abstract = row['concatenated_title_abstract']\n",
    "    for telescope_name in telescope_names:\n",
    "        if telescope_name in abstract:\n",
    "            return LABEL_DICT.get(telescope_name, ABSTAIN)\n",
    "    return ABSTAIN\n",
    "\n",
    "def lf_space_telescopes(row):\n",
    "    telescope_names = pd.read_csv('List of space telescopes.csv')['Name'].tolist()\n",
    "    abstract = row['concatenated_title_abstract']\n",
    "    for telescope_name in telescope_names:\n",
    "        if telescope_name in abstract:\n",
    "            return LABEL_DICT.get(telescope_name, ABSTAIN)\n",
    "    return ABSTAIN\n",
    "\n",
    "def lf_telescope_types(row):\n",
    "    telescope_types = ['radio telescope', 'solar telescope', 'space telescope']\n",
    "    abstract = row['concatenated_title_abstract']\n",
    "    for telescope_type in telescope_types:\n",
    "        if telescope_type in abstract:\n",
    "            return LABEL_DICT.get(telescope_type, ABSTAIN)\n",
    "    return ABSTAIN\n",
    "\n",
    "\n",
    "# Wrap your functions using Snorkel's LabelingFunction\n",
    "lfs = [\n",
    "    LabelingFunction(name=\"LF_Observatories\", f=lf_observatories),\n",
    "    LabelingFunction(name=\"LF_RadioTelescopes\", f=lf_radio_telescopes),\n",
    "    LabelingFunction(name=\"LF_SolarOpticalTelescopes\", f=lf_solar_optical_telescopes),\n",
    "    LabelingFunction(name=\"LF_SolarRadioTelescopes\", f=lf_solar_radio_telescopes),\n",
    "    LabelingFunction(name=\"LF_SpaceTelescopes\", f=lf_space_telescopes),\n",
    "    LabelingFunction(name=\"LF_TelescopeTypes\", f=lf_telescope_types)\n",
    "]"
   ]
  },
  {
   "cell_type": "code",
   "execution_count": 4,
   "id": "df92ec46",
   "metadata": {},
   "outputs": [
    {
     "name": "stderr",
     "output_type": "stream",
     "text": [
      "100%|██████████| 63999/63999 [10:09<00:00, 104.99it/s]\n"
     ]
    }
   ],
   "source": [
    "# Apply the labeling functions to the abstract data\n",
    "applier = PandasLFApplier(lfs=lfs)\n",
    "L_train = applier.apply(abstract_df)"
   ]
  },
  {
   "cell_type": "code",
   "execution_count": 5,
   "id": "d0453354",
   "metadata": {},
   "outputs": [
    {
     "name": "stderr",
     "output_type": "stream",
     "text": [
      "INFO:root:Computing O...\n",
      "INFO:root:Estimating \\mu...\n",
      "  0%|          | 0/100 [00:00<?, ?epoch/s]INFO:root:[0 epochs]: TRAIN:[loss=0.012]\n",
      " 10%|█         | 10/100 [01:12<10:44,  7.16s/epoch]INFO:root:[10 epochs]: TRAIN:[loss=0.012]\n",
      " 20%|██        | 20/100 [02:23<09:32,  7.16s/epoch]INFO:root:[20 epochs]: TRAIN:[loss=0.012]\n",
      " 30%|███       | 30/100 [03:35<08:20,  7.15s/epoch]INFO:root:[30 epochs]: TRAIN:[loss=0.012]\n",
      " 40%|████      | 40/100 [04:46<07:09,  7.17s/epoch]INFO:root:[40 epochs]: TRAIN:[loss=0.012]\n",
      " 50%|█████     | 50/100 [05:58<05:57,  7.15s/epoch]INFO:root:[50 epochs]: TRAIN:[loss=0.011]\n",
      " 60%|██████    | 60/100 [07:09<04:45,  7.15s/epoch]INFO:root:[60 epochs]: TRAIN:[loss=0.011]\n",
      " 70%|███████   | 70/100 [08:21<03:34,  7.14s/epoch]INFO:root:[70 epochs]: TRAIN:[loss=0.011]\n",
      " 80%|████████  | 80/100 [09:32<02:22,  7.14s/epoch]INFO:root:[80 epochs]: TRAIN:[loss=0.011]\n",
      " 90%|█████████ | 90/100 [10:43<01:11,  7.13s/epoch]INFO:root:[90 epochs]: TRAIN:[loss=0.011]\n",
      "100%|██████████| 100/100 [11:55<00:00,  7.15s/epoch]\n",
      "INFO:root:Finished Training\n"
     ]
    }
   ],
   "source": [
    "# Train a Snorkel label model\n",
    "NUM_LABELS = len(Labels)\n",
    "label_model = LabelModel(cardinality=NUM_LABELS)\n",
    "label_model.fit(L_train, n_epochs=100, log_freq=10, seed=123)"
   ]
  },
  {
   "cell_type": "code",
   "execution_count": 6,
   "id": "7913d800",
   "metadata": {},
   "outputs": [],
   "source": [
    "# Add the 'label' column to the DataFrame\n",
    "abstract_df['label'] = label_model.predict(L_train)"
   ]
  },
  {
   "cell_type": "code",
   "execution_count": 7,
   "id": "42da09ff",
   "metadata": {},
   "outputs": [
    {
     "data": {
      "text/html": [
       "<div>\n",
       "<style scoped>\n",
       "    .dataframe tbody tr th:only-of-type {\n",
       "        vertical-align: middle;\n",
       "    }\n",
       "\n",
       "    .dataframe tbody tr th {\n",
       "        vertical-align: top;\n",
       "    }\n",
       "\n",
       "    .dataframe thead th {\n",
       "        text-align: right;\n",
       "    }\n",
       "</style>\n",
       "<table border=\"1\" class=\"dataframe\">\n",
       "  <thead>\n",
       "    <tr style=\"text-align: right;\">\n",
       "      <th></th>\n",
       "      <th>concatenated_title_abstract</th>\n",
       "      <th>label</th>\n",
       "      <th>label_name</th>\n",
       "    </tr>\n",
       "  </thead>\n",
       "  <tbody>\n",
       "    <tr>\n",
       "      <th>0</th>\n",
       "      <td>KINEMATIC TREATMENT OF CORONAL MASS EJECTION E...</td>\n",
       "      <td>-1</td>\n",
       "      <td>ABSTAIN</td>\n",
       "    </tr>\n",
       "    <tr>\n",
       "      <th>1</th>\n",
       "      <td>The imaging performance of the Hubble Space Te...</td>\n",
       "      <td>243</td>\n",
       "      <td>Hubble Space Telescope</td>\n",
       "    </tr>\n",
       "    <tr>\n",
       "      <th>2</th>\n",
       "      <td>Numerical Simulations of Mass Outflows Driven ...</td>\n",
       "      <td>954</td>\n",
       "      <td>Kepler</td>\n",
       "    </tr>\n",
       "    <tr>\n",
       "      <th>3</th>\n",
       "      <td>The Origin of X-shaped Radio Galaxies: Clues f...</td>\n",
       "      <td>-1</td>\n",
       "      <td>ABSTAIN</td>\n",
       "    </tr>\n",
       "    <tr>\n",
       "      <th>4</th>\n",
       "      <td>The Ghost of Sagittarius and Lumps in the Halo...</td>\n",
       "      <td>-1</td>\n",
       "      <td>ABSTAIN</td>\n",
       "    </tr>\n",
       "    <tr>\n",
       "      <th>...</th>\n",
       "      <td>...</td>\n",
       "      <td>...</td>\n",
       "      <td>...</td>\n",
       "    </tr>\n",
       "    <tr>\n",
       "      <th>63994</th>\n",
       "      <td>Accretion Disk Spectra of the Ultra-luminous X...</td>\n",
       "      <td>-1</td>\n",
       "      <td>ABSTAIN</td>\n",
       "    </tr>\n",
       "    <tr>\n",
       "      <th>63995</th>\n",
       "      <td>The ghost of a dwarf galaxy: fossils of the hi...</td>\n",
       "      <td>-1</td>\n",
       "      <td>ABSTAIN</td>\n",
       "    </tr>\n",
       "    <tr>\n",
       "      <th>63996</th>\n",
       "      <td>Observations of the Solar Corona from Space Sp...</td>\n",
       "      <td>-1</td>\n",
       "      <td>ABSTAIN</td>\n",
       "    </tr>\n",
       "    <tr>\n",
       "      <th>63997</th>\n",
       "      <td>Constraints on the topology of the Universe de...</td>\n",
       "      <td>972</td>\n",
       "      <td>WMAP</td>\n",
       "    </tr>\n",
       "    <tr>\n",
       "      <th>63998</th>\n",
       "      <td>Formation of Kuiper-belt binaries through mult...</td>\n",
       "      <td>954</td>\n",
       "      <td>Kepler</td>\n",
       "    </tr>\n",
       "  </tbody>\n",
       "</table>\n",
       "<p>63999 rows × 3 columns</p>\n",
       "</div>"
      ],
      "text/plain": [
       "                             concatenated_title_abstract  label  \\\n",
       "0      KINEMATIC TREATMENT OF CORONAL MASS EJECTION E...     -1   \n",
       "1      The imaging performance of the Hubble Space Te...    243   \n",
       "2      Numerical Simulations of Mass Outflows Driven ...    954   \n",
       "3      The Origin of X-shaped Radio Galaxies: Clues f...     -1   \n",
       "4      The Ghost of Sagittarius and Lumps in the Halo...     -1   \n",
       "...                                                  ...    ...   \n",
       "63994  Accretion Disk Spectra of the Ultra-luminous X...     -1   \n",
       "63995  The ghost of a dwarf galaxy: fossils of the hi...     -1   \n",
       "63996  Observations of the Solar Corona from Space Sp...     -1   \n",
       "63997  Constraints on the topology of the Universe de...    972   \n",
       "63998  Formation of Kuiper-belt binaries through mult...    954   \n",
       "\n",
       "                   label_name  \n",
       "0                     ABSTAIN  \n",
       "1      Hubble Space Telescope  \n",
       "2                      Kepler  \n",
       "3                     ABSTAIN  \n",
       "4                     ABSTAIN  \n",
       "...                       ...  \n",
       "63994                 ABSTAIN  \n",
       "63995                 ABSTAIN  \n",
       "63996                 ABSTAIN  \n",
       "63997                    WMAP  \n",
       "63998                  Kepler  \n",
       "\n",
       "[63999 rows x 3 columns]"
      ]
     },
     "execution_count": 7,
     "metadata": {},
     "output_type": "execute_result"
    }
   ],
   "source": [
    "# Map the labels to their respective names\n",
    "abstract_df['label_name'] = abstract_df['label'].apply(lambda x: Labels.iloc[x]['Labels'] if x != ABSTAIN else 'ABSTAIN')\n",
    "abstract_df"
   ]
  },
  {
   "cell_type": "code",
   "execution_count": 11,
   "id": "96ae16c1",
   "metadata": {},
   "outputs": [],
   "source": [
    "# save to CSV\n",
    "abstract_df.to_csv('labeled_data_non-overlapped_labeling_fn_v2.csv', index=False)"
   ]
  },
  {
   "cell_type": "code",
   "execution_count": 9,
   "id": "24be4119",
   "metadata": {},
   "outputs": [
    {
     "name": "stdout",
     "output_type": "stream",
     "text": [
      "label_name\n",
      "ABSTAIN                                               48597\n",
      "Hubble Space Telescope                                 3020\n",
      "Gamma                                                  1717\n",
      "Kepler                                                  950\n",
      "Astron                                                  937\n",
      "                                                      ...  \n",
      "Siberian Solar Radio Telescope (SSRT)                     1\n",
      "Paranal Observatory                                       1\n",
      "Neutron Star Interior Composition Explorer (NICER)        1\n",
      "Ankara University Observatory                             1\n",
      "Very Small Array (VSA)                                    1\n",
      "Name: count, Length: 198, dtype: int64\n"
     ]
    }
   ],
   "source": [
    "label_counts = abstract_df['label_name'].value_counts()\n",
    "print(label_counts)"
   ]
  },
  {
   "cell_type": "code",
   "execution_count": 12,
   "id": "db2584d8",
   "metadata": {},
   "outputs": [
    {
     "data": {
      "text/html": [
       "<div>\n",
       "<style scoped>\n",
       "    .dataframe tbody tr th:only-of-type {\n",
       "        vertical-align: middle;\n",
       "    }\n",
       "\n",
       "    .dataframe tbody tr th {\n",
       "        vertical-align: top;\n",
       "    }\n",
       "\n",
       "    .dataframe thead th {\n",
       "        text-align: right;\n",
       "    }\n",
       "</style>\n",
       "<table border=\"1\" class=\"dataframe\">\n",
       "  <thead>\n",
       "    <tr style=\"text-align: right;\">\n",
       "      <th></th>\n",
       "      <th>Label</th>\n",
       "      <th>Count</th>\n",
       "    </tr>\n",
       "  </thead>\n",
       "  <tbody>\n",
       "    <tr>\n",
       "      <th>0</th>\n",
       "      <td>ABSTAIN</td>\n",
       "      <td>48597</td>\n",
       "    </tr>\n",
       "    <tr>\n",
       "      <th>1</th>\n",
       "      <td>Hubble Space Telescope</td>\n",
       "      <td>3020</td>\n",
       "    </tr>\n",
       "    <tr>\n",
       "      <th>2</th>\n",
       "      <td>Gamma</td>\n",
       "      <td>1717</td>\n",
       "    </tr>\n",
       "    <tr>\n",
       "      <th>3</th>\n",
       "      <td>Kepler</td>\n",
       "      <td>950</td>\n",
       "    </tr>\n",
       "    <tr>\n",
       "      <th>4</th>\n",
       "      <td>Astron</td>\n",
       "      <td>937</td>\n",
       "    </tr>\n",
       "    <tr>\n",
       "      <th>...</th>\n",
       "      <td>...</td>\n",
       "      <td>...</td>\n",
       "    </tr>\n",
       "    <tr>\n",
       "      <th>193</th>\n",
       "      <td>Siberian Solar Radio Telescope (SSRT)</td>\n",
       "      <td>1</td>\n",
       "    </tr>\n",
       "    <tr>\n",
       "      <th>194</th>\n",
       "      <td>Paranal Observatory</td>\n",
       "      <td>1</td>\n",
       "    </tr>\n",
       "    <tr>\n",
       "      <th>195</th>\n",
       "      <td>Neutron Star Interior Composition Explorer (NI...</td>\n",
       "      <td>1</td>\n",
       "    </tr>\n",
       "    <tr>\n",
       "      <th>196</th>\n",
       "      <td>Ankara University Observatory</td>\n",
       "      <td>1</td>\n",
       "    </tr>\n",
       "    <tr>\n",
       "      <th>197</th>\n",
       "      <td>Very Small Array (VSA)</td>\n",
       "      <td>1</td>\n",
       "    </tr>\n",
       "  </tbody>\n",
       "</table>\n",
       "<p>198 rows × 2 columns</p>\n",
       "</div>"
      ],
      "text/plain": [
       "                                                 Label  Count\n",
       "0                                              ABSTAIN  48597\n",
       "1                               Hubble Space Telescope   3020\n",
       "2                                                Gamma   1717\n",
       "3                                               Kepler    950\n",
       "4                                               Astron    937\n",
       "..                                                 ...    ...\n",
       "193              Siberian Solar Radio Telescope (SSRT)      1\n",
       "194                                Paranal Observatory      1\n",
       "195  Neutron Star Interior Composition Explorer (NI...      1\n",
       "196                      Ankara University Observatory      1\n",
       "197                             Very Small Array (VSA)      1\n",
       "\n",
       "[198 rows x 2 columns]"
      ]
     },
     "execution_count": 12,
     "metadata": {},
     "output_type": "execute_result"
    }
   ],
   "source": [
    "label_counts_df = label_counts.reset_index()\n",
    "label_counts_df.columns = ['Label', 'Count']\n",
    "\n",
    "# save to CSV\n",
    "label_counts_df.to_csv('label_counts_non-overlapped_labeling_fn_v2.csv', index=False)\n",
    "label_counts_df"
   ]
  },
  {
   "cell_type": "code",
   "execution_count": null,
   "id": "92c445df",
   "metadata": {},
   "outputs": [],
   "source": []
  }
 ],
 "metadata": {
  "kernelspec": {
   "display_name": "Python 3 (ipykernel)",
   "language": "python",
   "name": "python3"
  },
  "language_info": {
   "codemirror_mode": {
    "name": "ipython",
    "version": 3
   },
   "file_extension": ".py",
   "mimetype": "text/x-python",
   "name": "python",
   "nbconvert_exporter": "python",
   "pygments_lexer": "ipython3",
   "version": "3.8.12"
  }
 },
 "nbformat": 4,
 "nbformat_minor": 5
}

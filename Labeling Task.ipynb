{
 "cells": [
  {
   "cell_type": "markdown",
   "id": "779ce001",
   "metadata": {},
   "source": [
    "# Labeling Task"
   ]
  },
  {
   "cell_type": "code",
   "execution_count": 3,
   "id": "bdf18053",
   "metadata": {},
   "outputs": [],
   "source": [
    "import pandas as pd\n",
    "import numpy as np\n",
    "import re"
   ]
  },
  {
   "cell_type": "code",
   "execution_count": 5,
   "id": "deddbbd4",
   "metadata": {},
   "outputs": [
    {
     "data": {
      "text/html": [
       "<div>\n",
       "<style scoped>\n",
       "    .dataframe tbody tr th:only-of-type {\n",
       "        vertical-align: middle;\n",
       "    }\n",
       "\n",
       "    .dataframe tbody tr th {\n",
       "        vertical-align: top;\n",
       "    }\n",
       "\n",
       "    .dataframe thead th {\n",
       "        text-align: right;\n",
       "    }\n",
       "</style>\n",
       "<table border=\"1\" class=\"dataframe\">\n",
       "  <thead>\n",
       "    <tr style=\"text-align: right;\">\n",
       "      <th></th>\n",
       "      <th>Labels</th>\n",
       "    </tr>\n",
       "  </thead>\n",
       "  <tbody>\n",
       "    <tr>\n",
       "      <th>0</th>\n",
       "      <td>Abastumani Astrophysical Observatory</td>\n",
       "    </tr>\n",
       "    <tr>\n",
       "      <th>1</th>\n",
       "      <td>Abu Reyhan-e Birooni Observatory</td>\n",
       "    </tr>\n",
       "    <tr>\n",
       "      <th>2</th>\n",
       "      <td>Adirondack Public Observatory</td>\n",
       "    </tr>\n",
       "    <tr>\n",
       "      <th>3</th>\n",
       "      <td>Adolphson Observatory</td>\n",
       "    </tr>\n",
       "    <tr>\n",
       "      <th>4</th>\n",
       "      <td>Airdrie Public Observatory</td>\n",
       "    </tr>\n",
       "    <tr>\n",
       "      <th>...</th>\n",
       "      <td>...</td>\n",
       "    </tr>\n",
       "    <tr>\n",
       "      <th>990</th>\n",
       "      <td>ULTRASAT</td>\n",
       "    </tr>\n",
       "    <tr>\n",
       "      <th>991</th>\n",
       "      <td>Nancy Grace Roman Space Telescope (Wide Field ...</td>\n",
       "    </tr>\n",
       "    <tr>\n",
       "      <th>992</th>\n",
       "      <td>ARIEL</td>\n",
       "    </tr>\n",
       "    <tr>\n",
       "      <th>993</th>\n",
       "      <td>Advanced Telescope for High Energy Astrophysic...</td>\n",
       "    </tr>\n",
       "    <tr>\n",
       "      <th>994</th>\n",
       "      <td>Laser Interferometer Space Antenna (LISA)</td>\n",
       "    </tr>\n",
       "  </tbody>\n",
       "</table>\n",
       "<p>995 rows × 1 columns</p>\n",
       "</div>"
      ],
      "text/plain": [
       "                                                Labels\n",
       "0                 Abastumani Astrophysical Observatory\n",
       "1                     Abu Reyhan-e Birooni Observatory\n",
       "2                        Adirondack Public Observatory\n",
       "3                                Adolphson Observatory\n",
       "4                           Airdrie Public Observatory\n",
       "..                                                 ...\n",
       "990                                           ULTRASAT\n",
       "991  Nancy Grace Roman Space Telescope (Wide Field ...\n",
       "992                                              ARIEL\n",
       "993  Advanced Telescope for High Energy Astrophysic...\n",
       "994          Laser Interferometer Space Antenna (LISA)\n",
       "\n",
       "[995 rows x 1 columns]"
      ]
     },
     "execution_count": 5,
     "metadata": {},
     "output_type": "execute_result"
    }
   ],
   "source": [
    "#Load Data\n",
    "Labels = pd.read_csv('Labels.csv')\n",
    "# Rename the first column to 'Labels'\n",
    "Labels.columns = ['Labels']\n",
    "Labels"
   ]
  },
  {
   "cell_type": "code",
   "execution_count": 6,
   "id": "dee7a549",
   "metadata": {},
   "outputs": [
    {
     "data": {
      "text/plain": [
       "0        KINEMATIC TREATMENT OF CORONAL MASS EJECTION E...\n",
       "1        The imaging performance of the Hubble Space Te...\n",
       "2        Numerical Simulations of Mass Outflows Driven ...\n",
       "3        The Origin of X-shaped Radio Galaxies: Clues f...\n",
       "4        The Ghost of Sagittarius and Lumps in the Halo...\n",
       "                               ...                        \n",
       "63994    Accretion Disk Spectra of the Ultra-luminous X...\n",
       "63995    The ghost of a dwarf galaxy: fossils of the hi...\n",
       "63996    Observations of the Solar Corona from Space Sp...\n",
       "63997    Constraints on the topology of the Universe de...\n",
       "63998    Formation of Kuiper-belt binaries through mult...\n",
       "Name: concatenated_title_abstract, Length: 63999, dtype: object"
      ]
     },
     "execution_count": 6,
     "metadata": {},
     "output_type": "execute_result"
    }
   ],
   "source": [
    "abstract_df = pd.read_csv('preprocessed_data_Jul14.csv')\n",
    "abstract_df = abstract_df['concatenated_title_abstract']\n",
    "abstract_df"
   ]
  },
  {
   "cell_type": "code",
   "execution_count": 7,
   "id": "7f8fbf50",
   "metadata": {},
   "outputs": [
    {
     "name": "stderr",
     "output_type": "stream",
     "text": [
      "/tmp/ipykernel_50875/2594632076.py:1: DtypeWarning: Columns (27) have mixed types. Specify dtype option on import or set low_memory=False.\n",
      "  full_text = pd.read_csv('preprocessed_FullText_data.csv')\n"
     ]
    },
    {
     "data": {
      "text/plain": [
       "0        ['THE FLASH SPECTRUM. BY S. A. MITCHELL. (Read...\n",
       "1        ['MAY 9, 1913] SCIENCE must be sought the key ...\n",
       "2        ['OCTOBER 4, 1912] SCIENCE astronomy, increasi...\n",
       "3        [\"SCIENTIFIC NOTES AND NEWS A SPECIAL act of c...\n",
       "4        ['Wfeek-ly morbidity and mnortality tatble, ci...\n",
       "                               ...                        \n",
       "24995    ['Atmos. Chem. Phys., 16, 7709–7724, 2016\\nwww...\n",
       "24996    ['Ann. Geophys., 31, 187–196, 2013\\nwww.ann-ge...\n",
       "24997    ['Research Article\\nTrack-to-Track Association...\n",
       "24998    ['Nonlin. Processes Geophys., 26, 91–108, 2019...\n",
       "24999    ['Contribution of Ancestral Lines in the Devel...\n",
       "Name: fullText, Length: 25000, dtype: object"
      ]
     },
     "execution_count": 7,
     "metadata": {},
     "output_type": "execute_result"
    }
   ],
   "source": [
    "full_text = pd.read_csv('preprocessed_FullText_data.csv')\n",
    "full_text = full_text['fullText']\n",
    "full_text"
   ]
  },
  {
   "cell_type": "code",
   "execution_count": 8,
   "id": "04ae29b0",
   "metadata": {},
   "outputs": [
    {
     "name": "stdout",
     "output_type": "stream",
     "text": [
      "0        KINEMATIC TREATMENT OF CORONAL MASS EJECTION E...\n",
      "1        The imaging performance of the Hubble Space Te...\n",
      "2        Numerical Simulations of Mass Outflows Driven ...\n",
      "3        The Origin of X-shaped Radio Galaxies: Clues f...\n",
      "4        The Ghost of Sagittarius and Lumps in the Halo...\n",
      "                               ...                        \n",
      "88994    ['Atmos. Chem. Phys., 16, 7709–7724, 2016\\nwww...\n",
      "88995    ['Ann. Geophys., 31, 187–196, 2013\\nwww.ann-ge...\n",
      "88996    ['Research Article\\nTrack-to-Track Association...\n",
      "88997    ['Nonlin. Processes Geophys., 26, 91–108, 2019...\n",
      "88998    ['Contribution of Ancestral Lines in the Devel...\n",
      "Name: combined_df, Length: 88999, dtype: object\n"
     ]
    }
   ],
   "source": [
    "# Combine the two Series into one\n",
    "combined_df = pd.concat([abstract_df, full_text], ignore_index=True)\n",
    "combined_df.name = 'combined_df'\n",
    "\n",
    "print(combined_df)"
   ]
  },
  {
   "cell_type": "code",
   "execution_count": 9,
   "id": "f4e4aeac",
   "metadata": {},
   "outputs": [
    {
     "data": {
      "text/html": [
       "<div>\n",
       "<style scoped>\n",
       "    .dataframe tbody tr th:only-of-type {\n",
       "        vertical-align: middle;\n",
       "    }\n",
       "\n",
       "    .dataframe tbody tr th {\n",
       "        vertical-align: top;\n",
       "    }\n",
       "\n",
       "    .dataframe thead th {\n",
       "        text-align: right;\n",
       "    }\n",
       "</style>\n",
       "<table border=\"1\" class=\"dataframe\">\n",
       "  <thead>\n",
       "    <tr style=\"text-align: right;\">\n",
       "      <th></th>\n",
       "      <th>concatenated_title_abstract</th>\n",
       "      <th>label</th>\n",
       "      <th>label_name</th>\n",
       "    </tr>\n",
       "  </thead>\n",
       "  <tbody>\n",
       "    <tr>\n",
       "      <th>0</th>\n",
       "      <td>KINEMATIC TREATMENT OF CORONAL MASS EJECTION E...</td>\n",
       "      <td>-1</td>\n",
       "      <td>ABSTAIN</td>\n",
       "    </tr>\n",
       "    <tr>\n",
       "      <th>1</th>\n",
       "      <td>The imaging performance of the Hubble Space Te...</td>\n",
       "      <td>243</td>\n",
       "      <td>Hubble Space Telescope</td>\n",
       "    </tr>\n",
       "    <tr>\n",
       "      <th>2</th>\n",
       "      <td>Numerical Simulations of Mass Outflows Driven ...</td>\n",
       "      <td>954</td>\n",
       "      <td>Kepler</td>\n",
       "    </tr>\n",
       "    <tr>\n",
       "      <th>3</th>\n",
       "      <td>The Origin of X-shaped Radio Galaxies: Clues f...</td>\n",
       "      <td>-1</td>\n",
       "      <td>ABSTAIN</td>\n",
       "    </tr>\n",
       "    <tr>\n",
       "      <th>4</th>\n",
       "      <td>The Ghost of Sagittarius and Lumps in the Halo...</td>\n",
       "      <td>-1</td>\n",
       "      <td>ABSTAIN</td>\n",
       "    </tr>\n",
       "    <tr>\n",
       "      <th>...</th>\n",
       "      <td>...</td>\n",
       "      <td>...</td>\n",
       "      <td>...</td>\n",
       "    </tr>\n",
       "    <tr>\n",
       "      <th>63994</th>\n",
       "      <td>Accretion Disk Spectra of the Ultra-luminous X...</td>\n",
       "      <td>-1</td>\n",
       "      <td>ABSTAIN</td>\n",
       "    </tr>\n",
       "    <tr>\n",
       "      <th>63995</th>\n",
       "      <td>The ghost of a dwarf galaxy: fossils of the hi...</td>\n",
       "      <td>-1</td>\n",
       "      <td>ABSTAIN</td>\n",
       "    </tr>\n",
       "    <tr>\n",
       "      <th>63996</th>\n",
       "      <td>Observations of the Solar Corona from Space Sp...</td>\n",
       "      <td>-1</td>\n",
       "      <td>ABSTAIN</td>\n",
       "    </tr>\n",
       "    <tr>\n",
       "      <th>63997</th>\n",
       "      <td>Constraints on the topology of the Universe de...</td>\n",
       "      <td>972</td>\n",
       "      <td>WMAP</td>\n",
       "    </tr>\n",
       "    <tr>\n",
       "      <th>63998</th>\n",
       "      <td>Formation of Kuiper-belt binaries through mult...</td>\n",
       "      <td>954</td>\n",
       "      <td>Kepler</td>\n",
       "    </tr>\n",
       "  </tbody>\n",
       "</table>\n",
       "<p>63999 rows × 3 columns</p>\n",
       "</div>"
      ],
      "text/plain": [
       "                             concatenated_title_abstract  label  \\\n",
       "0      KINEMATIC TREATMENT OF CORONAL MASS EJECTION E...     -1   \n",
       "1      The imaging performance of the Hubble Space Te...    243   \n",
       "2      Numerical Simulations of Mass Outflows Driven ...    954   \n",
       "3      The Origin of X-shaped Radio Galaxies: Clues f...     -1   \n",
       "4      The Ghost of Sagittarius and Lumps in the Halo...     -1   \n",
       "...                                                  ...    ...   \n",
       "63994  Accretion Disk Spectra of the Ultra-luminous X...     -1   \n",
       "63995  The ghost of a dwarf galaxy: fossils of the hi...     -1   \n",
       "63996  Observations of the Solar Corona from Space Sp...     -1   \n",
       "63997  Constraints on the topology of the Universe de...    972   \n",
       "63998  Formation of Kuiper-belt binaries through mult...    954   \n",
       "\n",
       "                   label_name  \n",
       "0                     ABSTAIN  \n",
       "1      Hubble Space Telescope  \n",
       "2                      Kepler  \n",
       "3                     ABSTAIN  \n",
       "4                     ABSTAIN  \n",
       "...                       ...  \n",
       "63994                 ABSTAIN  \n",
       "63995                 ABSTAIN  \n",
       "63996                 ABSTAIN  \n",
       "63997                    WMAP  \n",
       "63998                  Kepler  \n",
       "\n",
       "[63999 rows x 3 columns]"
      ]
     },
     "execution_count": 9,
     "metadata": {},
     "output_type": "execute_result"
    }
   ],
   "source": [
    "labeled_data_sk = pd.read_csv('labeled_data_non-overlapped_labeling_fn_v2.csv')\n",
    "labeled_data_sk"
   ]
  },
  {
   "cell_type": "markdown",
   "id": "6db2d629",
   "metadata": {},
   "source": [
    "## Step 1: Rename Certain Labels"
   ]
  },
  {
   "cell_type": "code",
   "execution_count": 10,
   "id": "468dff22",
   "metadata": {},
   "outputs": [
    {
     "data": {
      "text/html": [
       "<div>\n",
       "<style scoped>\n",
       "    .dataframe tbody tr th:only-of-type {\n",
       "        vertical-align: middle;\n",
       "    }\n",
       "\n",
       "    .dataframe tbody tr th {\n",
       "        vertical-align: top;\n",
       "    }\n",
       "\n",
       "    .dataframe thead th {\n",
       "        text-align: right;\n",
       "    }\n",
       "</style>\n",
       "<table border=\"1\" class=\"dataframe\">\n",
       "  <thead>\n",
       "    <tr style=\"text-align: right;\">\n",
       "      <th></th>\n",
       "      <th>Label</th>\n",
       "    </tr>\n",
       "  </thead>\n",
       "  <tbody>\n",
       "    <tr>\n",
       "      <th>0</th>\n",
       "      <td>Abastumani Astrophysical Observatory</td>\n",
       "    </tr>\n",
       "    <tr>\n",
       "      <th>1</th>\n",
       "      <td>Abu Reyhan-e Birooni Observatory</td>\n",
       "    </tr>\n",
       "    <tr>\n",
       "      <th>2</th>\n",
       "      <td>Adirondack Public Observatory</td>\n",
       "    </tr>\n",
       "    <tr>\n",
       "      <th>3</th>\n",
       "      <td>Adolphson Observatory</td>\n",
       "    </tr>\n",
       "    <tr>\n",
       "      <th>4</th>\n",
       "      <td>Airdrie Public Observatory</td>\n",
       "    </tr>\n",
       "    <tr>\n",
       "      <th>...</th>\n",
       "      <td>...</td>\n",
       "    </tr>\n",
       "    <tr>\n",
       "      <th>1037</th>\n",
       "      <td>ULTRASAT</td>\n",
       "    </tr>\n",
       "    <tr>\n",
       "      <th>1038</th>\n",
       "      <td>Nancy Grace Roman Space Telescope (Wide Field ...</td>\n",
       "    </tr>\n",
       "    <tr>\n",
       "      <th>1039</th>\n",
       "      <td>ARIEL</td>\n",
       "    </tr>\n",
       "    <tr>\n",
       "      <th>1040</th>\n",
       "      <td>Advanced Telescope for High Energy Astrophysic...</td>\n",
       "    </tr>\n",
       "    <tr>\n",
       "      <th>1041</th>\n",
       "      <td>Laser Interferometer Space Antenna (LISA)</td>\n",
       "    </tr>\n",
       "  </tbody>\n",
       "</table>\n",
       "<p>1042 rows × 1 columns</p>\n",
       "</div>"
      ],
      "text/plain": [
       "                                                  Label\n",
       "0                  Abastumani Astrophysical Observatory\n",
       "1                      Abu Reyhan-e Birooni Observatory\n",
       "2                         Adirondack Public Observatory\n",
       "3                                 Adolphson Observatory\n",
       "4                            Airdrie Public Observatory\n",
       "...                                                 ...\n",
       "1037                                           ULTRASAT\n",
       "1038  Nancy Grace Roman Space Telescope (Wide Field ...\n",
       "1039                                              ARIEL\n",
       "1040  Advanced Telescope for High Energy Astrophysic...\n",
       "1041          Laser Interferometer Space Antenna (LISA)\n",
       "\n",
       "[1042 rows x 1 columns]"
      ]
     },
     "execution_count": 10,
     "metadata": {},
     "output_type": "execute_result"
    }
   ],
   "source": [
    "renamed_labels = pd.read_csv('Labels_renamed.csv')\n",
    "renamed_labels"
   ]
  },
  {
   "cell_type": "code",
   "execution_count": 12,
   "id": "aafb9675",
   "metadata": {},
   "outputs": [
    {
     "name": "stdout",
     "output_type": "stream",
     "text": [
      "{'Gamma', 'Kepler', 'Kepler Telescope', 'Gamma Telescope'}\n"
     ]
    }
   ],
   "source": [
    "# Convert column values to sets\n",
    "renamed_set = set(renamed_labels['Label'])\n",
    "labels_set = set(Labels['Labels'])\n",
    "\n",
    "# Find the difference between the two sets\n",
    "different_labels = renamed_set.symmetric_difference(labels_set)\n",
    "\n",
    "print(different_labels)"
   ]
  },
  {
   "cell_type": "code",
   "execution_count": 13,
   "id": "4b5afa0f",
   "metadata": {},
   "outputs": [
    {
     "name": "stdout",
     "output_type": "stream",
     "text": [
      "Labels exclusive to 'renamed_labels': {'Kepler Telescope', 'Gamma Telescope'}\n",
      "Labels exclusive to 'Labels': {'Gamma', 'Kepler'}\n"
     ]
    }
   ],
   "source": [
    "labels_in_renamed = {label for label in different_labels if label in renamed_set}\n",
    "labels_in_original = {label for label in different_labels if label in labels_set}\n",
    "\n",
    "print(\"Labels exclusive to 'renamed_labels':\", labels_in_renamed)\n",
    "print(\"Labels exclusive to 'Labels':\", labels_in_original)"
   ]
  },
  {
   "cell_type": "code",
   "execution_count": null,
   "id": "425fce46",
   "metadata": {},
   "outputs": [],
   "source": []
  }
 ],
 "metadata": {
  "kernelspec": {
   "display_name": "Python 3 (ipykernel)",
   "language": "python",
   "name": "python3"
  },
  "language_info": {
   "codemirror_mode": {
    "name": "ipython",
    "version": 3
   },
   "file_extension": ".py",
   "mimetype": "text/x-python",
   "name": "python",
   "nbconvert_exporter": "python",
   "pygments_lexer": "ipython3",
   "version": "3.8.12"
  }
 },
 "nbformat": 4,
 "nbformat_minor": 5
}

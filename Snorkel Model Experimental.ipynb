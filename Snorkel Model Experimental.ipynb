{
 "cells": [
  {
   "cell_type": "markdown",
   "id": "65b5af5f",
   "metadata": {},
   "source": [
    "# Snorkel Model Experimental"
   ]
  },
  {
   "cell_type": "code",
   "execution_count": 10,
   "id": "fe4d5a5f",
   "metadata": {},
   "outputs": [],
   "source": [
    "import snorkel\n",
    "import numpy as np\n",
    "import pandas as pd\n",
    "from sklearn.model_selection import train_test_split\n",
    "from sklearn.feature_extraction.text import TfidfVectorizer\n",
    "from snorkel.labeling import LabelingFunction, PandasLFApplier\n",
    "from snorkel.labeling.model.label_model import LabelModel"
   ]
  },
  {
   "cell_type": "code",
   "execution_count": 11,
   "id": "de9bcff5",
   "metadata": {},
   "outputs": [],
   "source": [
    "# Load Data\n",
    "labels_list = ['telescope', 'observatory', 'array']\n",
    "Labels = pd.DataFrame(labels_list, columns=['Labels'])\n",
    "abstract_df = pd.read_csv('preprocessed_data_Jul14.csv')\n",
    "abstract_df = abstract_df['concatenated_title_abstract'].to_frame(name='concatenated_title_abstract')\n",
    "\n",
    "# Define Labeling Functions\n",
    "LABEL_DICT = {label: i for i, label in enumerate(Labels['Labels'].tolist())}\n",
    "ABSTAIN = -1"
   ]
  },
  {
   "cell_type": "code",
   "execution_count": 12,
   "id": "03d43ac6",
   "metadata": {},
   "outputs": [],
   "source": [
    "# Loading CSV data outside LFs\n",
    "observatories = pd.read_csv('Astronomical Observatories.csv')['Name'].tolist()\n",
    "radio_telescope_names = pd.read_csv('List of radio telescopes.csv')['Name'].tolist()\n",
    "solar_optical_telescope_names = pd.read_csv('List of Solar Telescope Optical.csv')['Name/Observatory'].tolist()\n",
    "solar_radio_telescope_names = pd.read_csv('List of Solar Telescope Radio.csv')['Name/Observatory'].tolist()\n",
    "space_telescope_names = pd.read_csv('List of space telescopes.csv')['Name'].tolist()\n",
    "\n",
    "def lf_observatories(row):\n",
    "    abstract = row['concatenated_title_abstract']\n",
    "    for observatory in observatories:\n",
    "        if observatory in abstract:\n",
    "            return LABEL_DICT['observatory']\n",
    "    return ABSTAIN\n",
    "\n",
    "def lf_radio_telescopes(row):\n",
    "    abstract = row['concatenated_title_abstract']\n",
    "    for telescope_name in radio_telescope_names:\n",
    "        if telescope_name in abstract:\n",
    "            return LABEL_DICT['telescope']\n",
    "    return ABSTAIN\n",
    "\n",
    "def lf_solar_optical_telescopes(row):\n",
    "    abstract = row['concatenated_title_abstract']\n",
    "    for telescope_name in solar_optical_telescope_names:\n",
    "        if telescope_name in abstract:\n",
    "            return LABEL_DICT['telescope']\n",
    "    return ABSTAIN\n",
    "\n",
    "def lf_solar_radio_telescopes(row):\n",
    "    abstract = row['concatenated_title_abstract']\n",
    "    for telescope_name in solar_radio_telescope_names:\n",
    "        if telescope_name in abstract:\n",
    "            return LABEL_DICT['telescope']\n",
    "    return ABSTAIN\n",
    "\n",
    "def lf_space_telescopes(row):\n",
    "    abstract = row['concatenated_title_abstract']\n",
    "    for telescope_name in space_telescope_names:\n",
    "        if telescope_name in abstract:\n",
    "            return LABEL_DICT['telescope']\n",
    "    return ABSTAIN\n",
    "\n",
    "def lf_telescope_types(row):\n",
    "    telescope_types = ['radio telescope', 'solar telescope', 'space telescope']\n",
    "    abstract = row['concatenated_title_abstract']\n",
    "    for telescope_type in telescope_types:\n",
    "        if telescope_type in abstract:\n",
    "            return LABEL_DICT['telescope']\n",
    "    return ABSTAIN\n",
    "\n",
    "lfs = [\n",
    "    LabelingFunction(name=\"LF_Observatories\", f=lf_observatories),\n",
    "    LabelingFunction(name=\"LF_RadioTelescopes\", f=lf_radio_telescopes),\n",
    "    LabelingFunction(name=\"LF_SolarOpticalTelescopes\", f=lf_solar_optical_telescopes),\n",
    "    LabelingFunction(name=\"LF_SolarRadioTelescopes\", f=lf_solar_radio_telescopes),\n",
    "    LabelingFunction(name=\"LF_SpaceTelescopes\", f=lf_space_telescopes),\n",
    "    LabelingFunction(name=\"LF_TelescopeTypes\", f=lf_telescope_types)\n",
    "]"
   ]
  },
  {
   "cell_type": "code",
   "execution_count": 13,
   "id": "d906e071",
   "metadata": {},
   "outputs": [
    {
     "name": "stderr",
     "output_type": "stream",
     "text": [
      "100%|██████████| 63999/63999 [00:44<00:00, 1439.22it/s]\n"
     ]
    }
   ],
   "source": [
    "# Apply LFs\n",
    "applier = PandasLFApplier(lfs=lfs)\n",
    "L_train = applier.apply(abstract_df)"
   ]
  },
  {
   "cell_type": "code",
   "execution_count": 14,
   "id": "ae333ba8",
   "metadata": {},
   "outputs": [
    {
     "name": "stderr",
     "output_type": "stream",
     "text": [
      "INFO:root:Computing O...\n",
      "INFO:root:Estimating \\mu...\n",
      "  0%|          | 0/100 [00:00<?, ?epoch/s]INFO:root:[0 epochs]: TRAIN:[loss=0.030]\n",
      "INFO:root:[10 epochs]: TRAIN:[loss=0.020]\n",
      "INFO:root:[20 epochs]: TRAIN:[loss=0.011]\n",
      "INFO:root:[30 epochs]: TRAIN:[loss=0.007]\n",
      "INFO:root:[40 epochs]: TRAIN:[loss=0.007]\n",
      "INFO:root:[50 epochs]: TRAIN:[loss=0.006]\n",
      "INFO:root:[60 epochs]: TRAIN:[loss=0.006]\n",
      "INFO:root:[70 epochs]: TRAIN:[loss=0.006]\n",
      "INFO:root:[80 epochs]: TRAIN:[loss=0.005]\n",
      "INFO:root:[90 epochs]: TRAIN:[loss=0.005]\n",
      "100%|██████████| 100/100 [00:00<00:00, 1419.99epoch/s]\n",
      "INFO:root:Finished Training\n"
     ]
    }
   ],
   "source": [
    "# Train Snorkel label model\n",
    "NUM_LABELS = len(Labels)\n",
    "label_model = LabelModel(cardinality=NUM_LABELS)\n",
    "label_model.fit(L_train, n_epochs=100, log_freq=10, seed=123)"
   ]
  },
  {
   "cell_type": "code",
   "execution_count": 15,
   "id": "ace4be57",
   "metadata": {},
   "outputs": [
    {
     "name": "stdout",
     "output_type": "stream",
     "text": [
      "label_name\n",
      "ABSTAIN        48210\n",
      "telescope      13555\n",
      "observatory     2234\n",
      "Name: count, dtype: int64\n"
     ]
    }
   ],
   "source": [
    "# Add labels\n",
    "abstract_df['label'] = label_model.predict(L_train)\n",
    "abstract_df['label_name'] = abstract_df['label'].apply(lambda x: Labels.iloc[x]['Labels'] if x != ABSTAIN else 'ABSTAIN')\n",
    "\n",
    "print(abstract_df['label_name'].value_counts())"
   ]
  },
  {
   "cell_type": "code",
   "execution_count": null,
   "id": "3d8c4112",
   "metadata": {},
   "outputs": [],
   "source": []
  },
  {
   "cell_type": "code",
   "execution_count": null,
   "id": "1eaf0071",
   "metadata": {},
   "outputs": [],
   "source": []
  },
  {
   "cell_type": "code",
   "execution_count": null,
   "id": "ccf084d9",
   "metadata": {},
   "outputs": [],
   "source": []
  }
 ],
 "metadata": {
  "kernelspec": {
   "display_name": "Python 3 (ipykernel)",
   "language": "python",
   "name": "python3"
  },
  "language_info": {
   "codemirror_mode": {
    "name": "ipython",
    "version": 3
   },
   "file_extension": ".py",
   "mimetype": "text/x-python",
   "name": "python",
   "nbconvert_exporter": "python",
   "pygments_lexer": "ipython3",
   "version": "3.8.12"
  }
 },
 "nbformat": 4,
 "nbformat_minor": 5
}

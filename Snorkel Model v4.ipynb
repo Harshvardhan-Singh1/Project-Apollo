{
 "cells": [
  {
   "cell_type": "markdown",
   "id": "71824847",
   "metadata": {},
   "source": [
    "# Snorkel Model v4"
   ]
  },
  {
   "cell_type": "code",
   "execution_count": 1,
   "id": "ee63ead4",
   "metadata": {},
   "outputs": [],
   "source": [
    "import snorkel\n",
    "import numpy as np\n",
    "import pandas as pd\n",
    "from sklearn.model_selection import train_test_split\n",
    "from sklearn.feature_extraction.text import TfidfVectorizer\n",
    "from snorkel.labeling import LabelingFunction, PandasLFApplier\n",
    "from snorkel.labeling.model.label_model import LabelModel"
   ]
  },
  {
   "cell_type": "code",
   "execution_count": 2,
   "id": "1c740482",
   "metadata": {},
   "outputs": [],
   "source": [
    "# Load Data\n",
    "Labels = pd.read_csv('Labels_renamed.csv')\n",
    "Labels.columns = ['Labels']\n",
    "abstract_df = pd.read_csv('preprocessed_data_Jul14.csv')\n",
    "abstract_df = abstract_df['concatenated_title_abstract'].to_frame(name='concatenated_title_abstract')\n",
    "\n",
    "# Define Labeling Functions\n",
    "LABEL_DICT = {label: i for i, label in enumerate(Labels['Labels'].tolist())}\n",
    "ABSTAIN = -1"
   ]
  },
  {
   "cell_type": "code",
   "execution_count": 3,
   "id": "63c32a57",
   "metadata": {},
   "outputs": [],
   "source": [
    "# Load CSVs \n",
    "observatories = pd.read_csv('Astronomical Observatories.csv')['Name'].tolist()\n",
    "telescope_radio_names = pd.read_csv('List of radio telescopes.csv')['Name'].tolist()\n",
    "telescope_solar_optical_names = pd.read_csv('List of Solar Telescope Optical.csv')['Name/Observatory'].tolist()\n",
    "telescope_solar_radio_names = pd.read_csv('List of Solar Telescope Radio.csv')['Name/Observatory'].tolist()\n",
    "telescope_space_names = pd.read_csv('List of space telescopes.csv')['Name'].tolist()\n",
    "\n",
    "\n",
    "def lf_observatories_fn(row, observatories_list):\n",
    "    abstract = row['concatenated_title_abstract']\n",
    "    for observatory in observatories_list:\n",
    "        if observatory in abstract:\n",
    "            return LABEL_DICT.get(observatory, ABSTAIN)\n",
    "    return ABSTAIN\n",
    "\n",
    "\n",
    "def lf_telescope_radio_fn(row, telescope_radio_list):\n",
    "    abstract = row['concatenated_title_abstract']\n",
    "    for telescope in telescope_radio_list:\n",
    "        if telescope in abstract:\n",
    "            return LABEL_DICT.get(telescope, ABSTAIN)\n",
    "    return ABSTAIN\n",
    "\n",
    "\n",
    "def lf_telescope_solar_optical_fn(row, telescope_solar_optical_list):\n",
    "    abstract = row['concatenated_title_abstract']\n",
    "    for telescope in telescope_solar_optical_list:\n",
    "        if telescope in abstract:\n",
    "            return LABEL_DICT.get(telescope, ABSTAIN)\n",
    "    return ABSTAIN\n",
    "\n",
    "\n",
    "def lf_telescope_solar_radio_fn(row, telescope_solar_radio_list):\n",
    "    abstract = row['concatenated_title_abstract']\n",
    "    for telescope in telescope_solar_radio_list:\n",
    "        if telescope in abstract:\n",
    "            return LABEL_DICT.get(telescope, ABSTAIN)\n",
    "    return ABSTAIN\n",
    "\n",
    "\n",
    "def lf_telescope_space_fn(row, telescope_space_list):\n",
    "    abstract = row['concatenated_title_abstract']\n",
    "    for telescope in telescope_space_list:\n",
    "        if telescope in abstract:\n",
    "            return LABEL_DICT.get(telescope, ABSTAIN)\n",
    "    return ABSTAIN\n",
    "\n",
    "\n",
    "def lf_telescope_types_fn(row):\n",
    "    telescope_types = ['radio telescope', 'solar telescope', 'space telescope']\n",
    "    abstract = row['concatenated_title_abstract']\n",
    "    for telescope_type in telescope_types:\n",
    "        if telescope_type in abstract:\n",
    "            return LABEL_DICT.get(telescope_type, ABSTAIN)\n",
    "    return ABSTAIN\n",
    "\n",
    "# Define them as Snorkel's LabelingFunction\n",
    "lfs = [\n",
    "    LabelingFunction(name=\"lf_observatories\", f=lf_observatories_fn, resources=dict(observatories_list=observatories)),\n",
    "    LabelingFunction(name=\"lf_radio_telescopes\", f=lf_telescope_radio_fn, resources=dict(telescope_radio_list=telescope_radio_names)),\n",
    "    LabelingFunction(name=\"lf_solar_optical_telescopes\", f=lf_telescope_solar_optical_fn, resources=dict(telescope_solar_optical_list=telescope_solar_optical_names)),\n",
    "    LabelingFunction(name=\"lf_solar_radio_telescopes\", f=lf_telescope_solar_radio_fn, resources=dict(telescope_solar_radio_list=telescope_solar_radio_names)),\n",
    "    LabelingFunction(name=\"lf_space_telescopes\", f=lf_telescope_space_fn, resources=dict(telescope_space_list=telescope_space_names)),\n",
    "    LabelingFunction(name=\"lf_telescope_types\", f=lf_telescope_types_fn)\n",
    "]"
   ]
  },
  {
   "cell_type": "code",
   "execution_count": 4,
   "id": "46a2513a",
   "metadata": {},
   "outputs": [
    {
     "name": "stderr",
     "output_type": "stream",
     "text": [
      "100%|██████████| 63999/63999 [00:44<00:00, 1438.13it/s]\n"
     ]
    }
   ],
   "source": [
    "# Initialize the PandasLFApplier with the list of Labeling Functions\n",
    "applier = PandasLFApplier(lfs=lfs)\n",
    "\n",
    "# Apply the labeling functions to the abstract_df\n",
    "L_train = applier.apply(df=abstract_df)"
   ]
  },
  {
   "cell_type": "code",
   "execution_count": 5,
   "id": "db4e75b5",
   "metadata": {},
   "outputs": [],
   "source": [
    "# Convert labels to multi-label format\n",
    "def to_multi_label_format(label_array, num_labels):\n",
    "    return np.array([[1 if j in label_row else 0 for j in range(num_labels)] for label_row in label_array])\n",
    "\n",
    "multi_label_matrix = to_multi_label_format(L_train, len(LABEL_DICT))"
   ]
  },
  {
   "cell_type": "code",
   "execution_count": 6,
   "id": "4979ede5",
   "metadata": {},
   "outputs": [
    {
     "name": "stderr",
     "output_type": "stream",
     "text": [
      "INFO:root:Computing O...\n"
     ]
    },
    {
     "ename": "MemoryError",
     "evalue": "Unable to allocate 7.13 TiB for an array with shape (990025, 990025) and data type float64",
     "output_type": "error",
     "traceback": [
      "\u001b[0;31m---------------------------------------------------------------------------\u001b[0m",
      "\u001b[0;31mMemoryError\u001b[0m                               Traceback (most recent call last)",
      "Input \u001b[0;32mIn [6]\u001b[0m, in \u001b[0;36m<module>\u001b[0;34m\u001b[0m\n\u001b[1;32m      2\u001b[0m NUM_LABELS \u001b[38;5;241m=\u001b[39m \u001b[38;5;28mlen\u001b[39m(LABEL_DICT)\n\u001b[1;32m      3\u001b[0m label_model \u001b[38;5;241m=\u001b[39m LabelModel(cardinality\u001b[38;5;241m=\u001b[39mNUM_LABELS)\n\u001b[0;32m----> 4\u001b[0m \u001b[43mlabel_model\u001b[49m\u001b[38;5;241;43m.\u001b[39;49m\u001b[43mfit\u001b[49m\u001b[43m(\u001b[49m\u001b[43mmulti_label_matrix\u001b[49m\u001b[43m,\u001b[49m\u001b[43m \u001b[49m\u001b[43mn_epochs\u001b[49m\u001b[38;5;241;43m=\u001b[39;49m\u001b[38;5;241;43m100\u001b[39;49m\u001b[43m,\u001b[49m\u001b[43m \u001b[49m\u001b[43mlog_freq\u001b[49m\u001b[38;5;241;43m=\u001b[39;49m\u001b[38;5;241;43m10\u001b[39;49m\u001b[43m,\u001b[49m\u001b[43m \u001b[49m\u001b[43mseed\u001b[49m\u001b[38;5;241;43m=\u001b[39;49m\u001b[38;5;241;43m123\u001b[39;49m\u001b[43m)\u001b[49m\n",
      "File \u001b[0;32m~/.local/lib/python3.8/site-packages/snorkel/labeling/model/label_model.py:906\u001b[0m, in \u001b[0;36mLabelModel.fit\u001b[0;34m(self, L_train, Y_dev, class_balance, progress_bar, **kwargs)\u001b[0m\n\u001b[1;32m    904\u001b[0m \u001b[38;5;28;01mif\u001b[39;00m \u001b[38;5;28mself\u001b[39m\u001b[38;5;241m.\u001b[39mconfig\u001b[38;5;241m.\u001b[39mverbose:  \u001b[38;5;66;03m# pragma: no cover\u001b[39;00m\n\u001b[1;32m    905\u001b[0m     logging\u001b[38;5;241m.\u001b[39minfo(\u001b[38;5;124m\"\u001b[39m\u001b[38;5;124mComputing O...\u001b[39m\u001b[38;5;124m\"\u001b[39m)\n\u001b[0;32m--> 906\u001b[0m \u001b[38;5;28;43mself\u001b[39;49m\u001b[38;5;241;43m.\u001b[39;49m\u001b[43m_generate_O\u001b[49m\u001b[43m(\u001b[49m\u001b[43mL_shift\u001b[49m\u001b[43m)\u001b[49m\n\u001b[1;32m    907\u001b[0m \u001b[38;5;28mself\u001b[39m\u001b[38;5;241m.\u001b[39m_init_params()\n\u001b[1;32m    909\u001b[0m \u001b[38;5;66;03m# Estimate \\mu\u001b[39;00m\n",
      "File \u001b[0;32m~/.local/lib/python3.8/site-packages/snorkel/labeling/model/label_model.py:257\u001b[0m, in \u001b[0;36mLabelModel._generate_O\u001b[0;34m(self, L, higher_order)\u001b[0m\n\u001b[1;32m    254\u001b[0m L_aug \u001b[38;5;241m=\u001b[39m \u001b[38;5;28mself\u001b[39m\u001b[38;5;241m.\u001b[39m_get_augmented_label_matrix(L, higher_order\u001b[38;5;241m=\u001b[39mhigher_order)\n\u001b[1;32m    255\u001b[0m \u001b[38;5;28mself\u001b[39m\u001b[38;5;241m.\u001b[39md \u001b[38;5;241m=\u001b[39m L_aug\u001b[38;5;241m.\u001b[39mshape[\u001b[38;5;241m1\u001b[39m]\n\u001b[1;32m    256\u001b[0m \u001b[38;5;28mself\u001b[39m\u001b[38;5;241m.\u001b[39mO \u001b[38;5;241m=\u001b[39m (\n\u001b[0;32m--> 257\u001b[0m     torch\u001b[38;5;241m.\u001b[39mfrom_numpy(\u001b[43mL_aug\u001b[49m\u001b[38;5;241;43m.\u001b[39;49m\u001b[43mT\u001b[49m\u001b[43m \u001b[49m\u001b[38;5;241;43m@\u001b[39;49m\u001b[43m \u001b[49m\u001b[43mL_aug\u001b[49m \u001b[38;5;241m/\u001b[39m \u001b[38;5;28mself\u001b[39m\u001b[38;5;241m.\u001b[39mn)\u001b[38;5;241m.\u001b[39mfloat()\u001b[38;5;241m.\u001b[39mto(\u001b[38;5;28mself\u001b[39m\u001b[38;5;241m.\u001b[39mconfig\u001b[38;5;241m.\u001b[39mdevice)\n\u001b[1;32m    258\u001b[0m )\n",
      "\u001b[0;31mMemoryError\u001b[0m: Unable to allocate 7.13 TiB for an array with shape (990025, 990025) and data type float64"
     ]
    }
   ],
   "source": [
    "# Train the Snorkel label model\n",
    "NUM_LABELS = len(LABEL_DICT)\n",
    "label_model = LabelModel(cardinality=NUM_LABELS)\n",
    "label_model.fit(multi_label_matrix, n_epochs=100, log_freq=10, seed=123)"
   ]
  },
  {
   "cell_type": "code",
   "execution_count": null,
   "id": "5d308fdc",
   "metadata": {},
   "outputs": [],
   "source": [
    "# Use the label model to predict the labels\n",
    "predicted_labels = label_model.predict(multi_label_matrix)"
   ]
  },
  {
   "cell_type": "code",
   "execution_count": null,
   "id": "fd317df0",
   "metadata": {},
   "outputs": [],
   "source": [
    "# Add predicted labels to dataframe\n",
    "abstract_df['predicted_labels'] = [set(label) for label in predicted_labels]"
   ]
  },
  {
   "cell_type": "code",
   "execution_count": null,
   "id": "33c5b9c4",
   "metadata": {},
   "outputs": [],
   "source": [
    "# Convert the set to a string for easy storage and manipulation\n",
    "abstract_df['predicted_label_str'] = abstract_df['predicted_labels'].apply(lambda x: ';'.join(map(str, sorted(x))) if x else 'ABSTAIN')"
   ]
  },
  {
   "cell_type": "code",
   "execution_count": null,
   "id": "99e27bef",
   "metadata": {},
   "outputs": [],
   "source": [
    "abstract_df.to_csv('labeled_data_snorkel_v4_multilabel_with_predictions.csv', index=False)"
   ]
  },
  {
   "cell_type": "code",
   "execution_count": null,
   "id": "cd3dbf71",
   "metadata": {},
   "outputs": [],
   "source": [
    "label_counts = abstract_df['predicted_label_str'].value_counts()\n",
    "label_counts_df = label_counts.reset_index()\n",
    "label_counts_df.columns = ['Predicted Label', 'Count']\n",
    "label_counts_df.to_csv('predicted_label_counts_Snorkel_v3_multilabel.csv', index=False)"
   ]
  },
  {
   "cell_type": "code",
   "execution_count": null,
   "id": "c9c585e7",
   "metadata": {},
   "outputs": [],
   "source": []
  }
 ],
 "metadata": {
  "kernelspec": {
   "display_name": "Python 3 (ipykernel)",
   "language": "python",
   "name": "python3"
  },
  "language_info": {
   "codemirror_mode": {
    "name": "ipython",
    "version": 3
   },
   "file_extension": ".py",
   "mimetype": "text/x-python",
   "name": "python",
   "nbconvert_exporter": "python",
   "pygments_lexer": "ipython3",
   "version": "3.8.12"
  }
 },
 "nbformat": 4,
 "nbformat_minor": 5
}
